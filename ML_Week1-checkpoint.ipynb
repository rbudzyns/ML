{
 "cells": [
  {
   "cell_type": "markdown",
   "metadata": {},
   "source": [
    "# Introduction"
   ]
  },
  {
   "cell_type": "markdown",
   "metadata": {},
   "source": [
    "## Supervised Learning\n",
    "* Regression - predicting continuous valued output\n",
    "* Classification - predicting discrete valued output\n"
   ]
  },
  {
   "cell_type": "markdown",
   "metadata": {},
   "source": [
    "## Unsupervised Learning\n",
    "* Clustering\n",
    "* Associative"
   ]
  },
  {
   "cell_type": "markdown",
   "metadata": {},
   "source": [
    "# Linear Regression with One Variable\n",
    "a.k.a. univariate linear regression - supervised learning - predict one output from one input  \n",
    "  \n",
    "Hypothesis function: $$h_{\\theta}(x) = \\theta_0 + \\theta_1x$$  \n",
    "\n",
    "Cost function: $$J(\\theta_0,\\theta_1) = \\frac{1}{2m} \\sum_{i=1}^m \\left(h_{\\theta}(x_i)-y_i\\right)^2 \\text{ squared error function}$$  \n",
    "\n",
    "Improve hypothesis via Gradient Decent (repeat until convergence): $$\\theta_j = \\theta_j - \\alpha \\frac{\\partial}{\\partial \\theta_j} J(\\theta_0,\\theta_1): j \\in \\{0,1\\}$$  \n",
    "\n",
    "Gradient Descent for Linear Regression (repeat until convergence):\n",
    "\\begin{equation}\n",
    "\\begin{split}\n",
    "\\theta_0 &= \\theta_0 - \\alpha \\frac{1}{m} \\sum_{i=1}^m (h_{\\theta}(x_i)-y_i) \\\\\n",
    "\\theta_1 &= \\theta_1 - \\alpha \\frac{1}{m} \\sum_{i=1}^m ((h_{\\theta}(x_i)-y_i)x_i) \\\\\n",
    "\\end{split}\n",
    "\\end{equation}"
   ]
  },
  {
   "cell_type": "markdown",
   "metadata": {},
   "source": [
    "## Linear Algebra Review\n",
    "Matrix multiplication:\n",
    "$$\\matrix{A} \\cdot \\matrix{B} \\neq \\matrix{B} \\cdot \\matrix{A}$$\n",
    "$$(\\matrix{A} \\cdot \\matrix{B}) \\cdot \\matrix{C} = \\matrix{A} \\cdot (\\matrix{B} \\cdot \\matrix{C})$$\n",
    "$$\\matrix{A} \\cdot \\matrix{I} = \\matrix{A}$$\n",
    "$$\\matrix{A} \\cdot \\matrix{A}^{-1} = \\matrix{I}$$"
   ]
  },
  {
   "cell_type": "code",
   "execution_count": 6,
   "metadata": {
    "collapsed": false
   },
   "outputs": [
    {
     "data": {
      "text/plain": [
       "A =\r\n",
       "\r\n",
       "   1   2\r\n",
       "   3   4\r\n",
       "\r\n",
       "A_inv =\r\n",
       "\r\n",
       "  -2.00000   1.00000\r\n",
       "   1.50000  -0.50000\r\n",
       "\r\n",
       "A_trsp =\r\n",
       "\r\n",
       "   1   3\r\n",
       "   2   4\r\n",
       "\r\n"
      ]
     },
     "execution_count": 6,
     "metadata": {},
     "output_type": "execute_result"
    }
   ],
   "source": [
    "A = [1,2;3,4]\n",
    "A_inv = pinv(A)\n",
    "A_trsp = A'"
   ]
  }
 ],
 "metadata": {
  "kernelspec": {
   "display_name": "Octave",
   "language": "octave",
   "name": "octave_kernel"
  },
  "language_info": {
   "codemirror_mode": "Octave",
   "file_extension": ".m",
   "help_links": [
    {
     "text": "MetaKernel Magics",
     "url": "https://github.com/calysto/metakernel/blob/master/metakernel/magics/README.md"
    }
   ],
   "mimetype": "text/x-octave",
   "name": "octave_kernel"
  }
 },
 "nbformat": 4,
 "nbformat_minor": 0
}
