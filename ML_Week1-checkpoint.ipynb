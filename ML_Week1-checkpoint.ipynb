{
 "cells": [
  {
   "cell_type": "markdown",
   "metadata": {},
   "source": [
    "# Introduction"
   ]
  },
  {
   "cell_type": "markdown",
   "metadata": {},
   "source": [
    "## Supervised Learning\n",
    "* Regression - predicting continuous valued output\n",
    "* Classification - predicting discrete valued output\n"
   ]
  },
  {
   "cell_type": "markdown",
   "metadata": {},
   "source": [
    "## Unsupervised Learning\n",
    "* Clustering\n",
    "* Associative"
   ]
  },
  {
   "cell_type": "markdown",
   "metadata": {},
   "source": [
    "# Linear Regression with One Variable\n",
    "a.k.a. univariate linear regression - supervised learning - predict one output from one input  \n",
    "  \n",
    "Hypothesis function: $$h_{\\theta}(x) = \\theta_0 + \\theta_1x$$  \n",
    "\n",
    "Cost function: $$J(\\theta_0,\\theta_1) = \\frac{1}{2m} \\sum_{i=1}^m \\left(h_{\\theta}(x_i)-y_i\\right)^2 \\text{ squared error function}$$  \n",
    "\n",
    "Improve hypothesis via Gradient Decent (repeat until convergence): $$\\theta_j = \\theta_j - \\alpha \\frac{\\partial}{\\partial \\theta_j} J(\\theta_0,\\theta_1): j \\in \\{0,1\\}$$  \n",
    "\n",
    "Gradient Descent for Linear Regression (repeat until convergence):\n",
    "\\begin{equation}\n",
    "\\begin{split}\n",
    "\\theta_0 &= \\theta_0 - \\alpha \\frac{1}{m} \\sum_{i=1}^m (h_{\\theta}(x_i)-y_i) \\\\\n",
    "\\theta_1 &= \\theta_1 - \\alpha \\frac{1}{m} \\sum_{i=1}^m ((h_{\\theta}(x_i)-y_i)x_i) \\\\\n",
    "\\end{split}\n",
    "\\end{equation}"
   ]
  },
  {
   "cell_type": "markdown",
   "metadata": {},
   "source": [
    "Stuff..."
   ]
  }
 ],
 "metadata": {
  "kernelspec": {
   "display_name": "Python 3",
   "language": "python",
   "name": "python3"
  },
  "language_info": {
   "codemirror_mode": {
    "name": "ipython",
    "version": 3
   },
   "file_extension": ".py",
   "mimetype": "text/x-python",
   "name": "python",
   "nbconvert_exporter": "python",
   "pygments_lexer": "ipython3",
   "version": "3.4.3"
  }
 },
 "nbformat": 4,
 "nbformat_minor": 0
}
